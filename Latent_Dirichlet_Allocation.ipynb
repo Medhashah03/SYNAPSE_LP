{
  "cells": [
    {
      "cell_type": "markdown",
      "metadata": {
        "id": "view-in-github",
        "colab_type": "text"
      },
      "source": [
        "<a href=\"https://colab.research.google.com/github/Medhashah03/SYNAPSE_LP/blob/Week-8/Latent_Dirichlet_Allocation.ipynb\" target=\"_parent\"><img src=\"https://colab.research.google.com/assets/colab-badge.svg\" alt=\"Open In Colab\"/></a>"
      ]
    },
    {
      "cell_type": "markdown",
      "metadata": {
        "id": "GZ4yCG1JpWpA"
      },
      "source": [
        "## Latent Dirichlet Allocation ##\n",
        "**Watch these videos:**\n",
        "- https://www.youtube.com/watch?v=azXCzI57Yfc\n",
        "- https://www.youtube.com/watch?v=T05t-SqKArY\n",
        "- https://www.youtube.com/watch?v=BaM1uiCpj_E\n",
        "\n",
        "LDA is used to classify text in a document to a particular topic. It builds a topic per document model and words per topic model, modeled as Dirichlet distributions. \n",
        "\n",
        "* Each document is modeled as a multinomial distribution of topics and each topic is modeled as a multinomial distribution of words.\n",
        "* LDA assumes that the every chunk of text we feed into it will contain words that are somehow related. Therefore choosing the right corpus of data is crucial. \n",
        "* It also assumes documents are produced from a mixture of topics. Those topics then generate words based on their probability distribution. "
      ]
    },
    {
      "cell_type": "markdown",
      "metadata": {
        "id": "hZdLFJPgpWpG"
      },
      "source": [
        "## Step 1: Load the dataset\n",
        "\n",
        "The dataset we'll use is a list of over one million news headlines published over a period of 15 years. We'll start by loading it from the `abcnews-date-text.csv` file."
      ]
    },
    {
      "cell_type": "code",
      "execution_count": null,
      "metadata": {
        "id": "f6sSpTHkpWpH",
        "colab": {
          "base_uri": "https://localhost:8080/",
          "height": 223
        },
        "outputId": "2fbde4af-4e1a-431f-bf1a-1d59505e8488"
      },
      "outputs": [
        {
          "output_type": "stream",
          "name": "stdout",
          "text": [
            "Drive already mounted at /content/gdrive; to attempt to forcibly remount, call drive.mount(\"/content/gdrive\", force_remount=True).\n"
          ]
        },
        {
          "output_type": "execute_result",
          "data": {
            "text/plain": [
              "                                       headline_text  index\n",
              "0  aba decides against community broadcasting lic...      0\n",
              "1     act fire witnesses must be aware of defamation      1\n",
              "2     a g calls for infrastructure protection summit      2\n",
              "3           air nz staff in aust strike for pay rise      3\n",
              "4      air nz strike to affect australian travellers      4"
            ],
            "text/html": [
              "\n",
              "  <div id=\"df-77d45c59-2f03-48e8-be60-8612846cf4f5\">\n",
              "    <div class=\"colab-df-container\">\n",
              "      <div>\n",
              "<style scoped>\n",
              "    .dataframe tbody tr th:only-of-type {\n",
              "        vertical-align: middle;\n",
              "    }\n",
              "\n",
              "    .dataframe tbody tr th {\n",
              "        vertical-align: top;\n",
              "    }\n",
              "\n",
              "    .dataframe thead th {\n",
              "        text-align: right;\n",
              "    }\n",
              "</style>\n",
              "<table border=\"1\" class=\"dataframe\">\n",
              "  <thead>\n",
              "    <tr style=\"text-align: right;\">\n",
              "      <th></th>\n",
              "      <th>headline_text</th>\n",
              "      <th>index</th>\n",
              "    </tr>\n",
              "  </thead>\n",
              "  <tbody>\n",
              "    <tr>\n",
              "      <th>0</th>\n",
              "      <td>aba decides against community broadcasting lic...</td>\n",
              "      <td>0</td>\n",
              "    </tr>\n",
              "    <tr>\n",
              "      <th>1</th>\n",
              "      <td>act fire witnesses must be aware of defamation</td>\n",
              "      <td>1</td>\n",
              "    </tr>\n",
              "    <tr>\n",
              "      <th>2</th>\n",
              "      <td>a g calls for infrastructure protection summit</td>\n",
              "      <td>2</td>\n",
              "    </tr>\n",
              "    <tr>\n",
              "      <th>3</th>\n",
              "      <td>air nz staff in aust strike for pay rise</td>\n",
              "      <td>3</td>\n",
              "    </tr>\n",
              "    <tr>\n",
              "      <th>4</th>\n",
              "      <td>air nz strike to affect australian travellers</td>\n",
              "      <td>4</td>\n",
              "    </tr>\n",
              "  </tbody>\n",
              "</table>\n",
              "</div>\n",
              "      <button class=\"colab-df-convert\" onclick=\"convertToInteractive('df-77d45c59-2f03-48e8-be60-8612846cf4f5')\"\n",
              "              title=\"Convert this dataframe to an interactive table.\"\n",
              "              style=\"display:none;\">\n",
              "        \n",
              "  <svg xmlns=\"http://www.w3.org/2000/svg\" height=\"24px\"viewBox=\"0 0 24 24\"\n",
              "       width=\"24px\">\n",
              "    <path d=\"M0 0h24v24H0V0z\" fill=\"none\"/>\n",
              "    <path d=\"M18.56 5.44l.94 2.06.94-2.06 2.06-.94-2.06-.94-.94-2.06-.94 2.06-2.06.94zm-11 1L8.5 8.5l.94-2.06 2.06-.94-2.06-.94L8.5 2.5l-.94 2.06-2.06.94zm10 10l.94 2.06.94-2.06 2.06-.94-2.06-.94-.94-2.06-.94 2.06-2.06.94z\"/><path d=\"M17.41 7.96l-1.37-1.37c-.4-.4-.92-.59-1.43-.59-.52 0-1.04.2-1.43.59L10.3 9.45l-7.72 7.72c-.78.78-.78 2.05 0 2.83L4 21.41c.39.39.9.59 1.41.59.51 0 1.02-.2 1.41-.59l7.78-7.78 2.81-2.81c.8-.78.8-2.07 0-2.86zM5.41 20L4 18.59l7.72-7.72 1.47 1.35L5.41 20z\"/>\n",
              "  </svg>\n",
              "      </button>\n",
              "      \n",
              "  <style>\n",
              "    .colab-df-container {\n",
              "      display:flex;\n",
              "      flex-wrap:wrap;\n",
              "      gap: 12px;\n",
              "    }\n",
              "\n",
              "    .colab-df-convert {\n",
              "      background-color: #E8F0FE;\n",
              "      border: none;\n",
              "      border-radius: 50%;\n",
              "      cursor: pointer;\n",
              "      display: none;\n",
              "      fill: #1967D2;\n",
              "      height: 32px;\n",
              "      padding: 0 0 0 0;\n",
              "      width: 32px;\n",
              "    }\n",
              "\n",
              "    .colab-df-convert:hover {\n",
              "      background-color: #E2EBFA;\n",
              "      box-shadow: 0px 1px 2px rgba(60, 64, 67, 0.3), 0px 1px 3px 1px rgba(60, 64, 67, 0.15);\n",
              "      fill: #174EA6;\n",
              "    }\n",
              "\n",
              "    [theme=dark] .colab-df-convert {\n",
              "      background-color: #3B4455;\n",
              "      fill: #D2E3FC;\n",
              "    }\n",
              "\n",
              "    [theme=dark] .colab-df-convert:hover {\n",
              "      background-color: #434B5C;\n",
              "      box-shadow: 0px 1px 3px 1px rgba(0, 0, 0, 0.15);\n",
              "      filter: drop-shadow(0px 1px 2px rgba(0, 0, 0, 0.3));\n",
              "      fill: #FFFFFF;\n",
              "    }\n",
              "  </style>\n",
              "\n",
              "      <script>\n",
              "        const buttonEl =\n",
              "          document.querySelector('#df-77d45c59-2f03-48e8-be60-8612846cf4f5 button.colab-df-convert');\n",
              "        buttonEl.style.display =\n",
              "          google.colab.kernel.accessAllowed ? 'block' : 'none';\n",
              "\n",
              "        async function convertToInteractive(key) {\n",
              "          const element = document.querySelector('#df-77d45c59-2f03-48e8-be60-8612846cf4f5');\n",
              "          const dataTable =\n",
              "            await google.colab.kernel.invokeFunction('convertToInteractive',\n",
              "                                                     [key], {});\n",
              "          if (!dataTable) return;\n",
              "\n",
              "          const docLinkHtml = 'Like what you see? Visit the ' +\n",
              "            '<a target=\"_blank\" href=https://colab.research.google.com/notebooks/data_table.ipynb>data table notebook</a>'\n",
              "            + ' to learn more about interactive tables.';\n",
              "          element.innerHTML = '';\n",
              "          dataTable['output_type'] = 'display_data';\n",
              "          await google.colab.output.renderOutput(dataTable, element);\n",
              "          const docLink = document.createElement('div');\n",
              "          docLink.innerHTML = docLinkHtml;\n",
              "          element.appendChild(docLink);\n",
              "        }\n",
              "      </script>\n",
              "    </div>\n",
              "  </div>\n",
              "  "
            ]
          },
          "metadata": {},
          "execution_count": 1
        }
      ],
      "source": [
        "'''\n",
        "Load the dataset from the CSV and save it to 'data_text'. We only need the'headline_text' column,\n",
        "so drop the rest of the columns. Call the final dataframe \"documents\" \n",
        "Then, add an 'index' column to the dataframe. Be sure to name it index.\n",
        "Hint: dataframe.index\n",
        "'''\n",
        "import pandas as pd\n",
        "from google.colab import drive\n",
        "drive.mount(\"/content/gdrive\")\n",
        "data_text = pd.read_csv(\"/content/gdrive/MyDrive/NLP_dataset/abcnews-date-text.csv\")\n",
        "documents =data_text.drop(data_text.columns.difference(['headline_text']), axis=1)\n",
        "documents['index']=documents.index\n",
        "documents.head()\n",
        "\n"
      ]
    },
    {
      "cell_type": "markdown",
      "metadata": {
        "id": "55JUnVKlpWpJ"
      },
      "source": [
        "Let's glance at the dataset:"
      ]
    },
    {
      "cell_type": "code",
      "execution_count": null,
      "metadata": {
        "id": "YlYQGgNfpWpJ",
        "colab": {
          "base_uri": "https://localhost:8080/"
        },
        "outputId": "4a6aa2c4-b3f6-4795-964d-86bee23322a3"
      },
      "outputs": [
        {
          "output_type": "execute_result",
          "data": {
            "text/plain": [
              "1103665"
            ]
          },
          "metadata": {},
          "execution_count": 2
        }
      ],
      "source": [
        "'''\n",
        "print the total number of documents\n",
        "'''\n",
        "len(documents['index'])\n"
      ]
    },
    {
      "cell_type": "code",
      "execution_count": null,
      "metadata": {
        "id": "aYN2_M0ipWpJ",
        "colab": {
          "base_uri": "https://localhost:8080/",
          "height": 206
        },
        "outputId": "99cfe43e-fb00-41e6-f00d-7a6fcbff9aba"
      },
      "outputs": [
        {
          "output_type": "execute_result",
          "data": {
            "text/plain": [
              "                                       headline_text  index\n",
              "0  aba decides against community broadcasting lic...      0\n",
              "1     act fire witnesses must be aware of defamation      1\n",
              "2     a g calls for infrastructure protection summit      2\n",
              "3           air nz staff in aust strike for pay rise      3\n",
              "4      air nz strike to affect australian travellers      4"
            ],
            "text/html": [
              "\n",
              "  <div id=\"df-1c1b80a1-d45a-4650-aee8-2e8546042849\">\n",
              "    <div class=\"colab-df-container\">\n",
              "      <div>\n",
              "<style scoped>\n",
              "    .dataframe tbody tr th:only-of-type {\n",
              "        vertical-align: middle;\n",
              "    }\n",
              "\n",
              "    .dataframe tbody tr th {\n",
              "        vertical-align: top;\n",
              "    }\n",
              "\n",
              "    .dataframe thead th {\n",
              "        text-align: right;\n",
              "    }\n",
              "</style>\n",
              "<table border=\"1\" class=\"dataframe\">\n",
              "  <thead>\n",
              "    <tr style=\"text-align: right;\">\n",
              "      <th></th>\n",
              "      <th>headline_text</th>\n",
              "      <th>index</th>\n",
              "    </tr>\n",
              "  </thead>\n",
              "  <tbody>\n",
              "    <tr>\n",
              "      <th>0</th>\n",
              "      <td>aba decides against community broadcasting lic...</td>\n",
              "      <td>0</td>\n",
              "    </tr>\n",
              "    <tr>\n",
              "      <th>1</th>\n",
              "      <td>act fire witnesses must be aware of defamation</td>\n",
              "      <td>1</td>\n",
              "    </tr>\n",
              "    <tr>\n",
              "      <th>2</th>\n",
              "      <td>a g calls for infrastructure protection summit</td>\n",
              "      <td>2</td>\n",
              "    </tr>\n",
              "    <tr>\n",
              "      <th>3</th>\n",
              "      <td>air nz staff in aust strike for pay rise</td>\n",
              "      <td>3</td>\n",
              "    </tr>\n",
              "    <tr>\n",
              "      <th>4</th>\n",
              "      <td>air nz strike to affect australian travellers</td>\n",
              "      <td>4</td>\n",
              "    </tr>\n",
              "  </tbody>\n",
              "</table>\n",
              "</div>\n",
              "      <button class=\"colab-df-convert\" onclick=\"convertToInteractive('df-1c1b80a1-d45a-4650-aee8-2e8546042849')\"\n",
              "              title=\"Convert this dataframe to an interactive table.\"\n",
              "              style=\"display:none;\">\n",
              "        \n",
              "  <svg xmlns=\"http://www.w3.org/2000/svg\" height=\"24px\"viewBox=\"0 0 24 24\"\n",
              "       width=\"24px\">\n",
              "    <path d=\"M0 0h24v24H0V0z\" fill=\"none\"/>\n",
              "    <path d=\"M18.56 5.44l.94 2.06.94-2.06 2.06-.94-2.06-.94-.94-2.06-.94 2.06-2.06.94zm-11 1L8.5 8.5l.94-2.06 2.06-.94-2.06-.94L8.5 2.5l-.94 2.06-2.06.94zm10 10l.94 2.06.94-2.06 2.06-.94-2.06-.94-.94-2.06-.94 2.06-2.06.94z\"/><path d=\"M17.41 7.96l-1.37-1.37c-.4-.4-.92-.59-1.43-.59-.52 0-1.04.2-1.43.59L10.3 9.45l-7.72 7.72c-.78.78-.78 2.05 0 2.83L4 21.41c.39.39.9.59 1.41.59.51 0 1.02-.2 1.41-.59l7.78-7.78 2.81-2.81c.8-.78.8-2.07 0-2.86zM5.41 20L4 18.59l7.72-7.72 1.47 1.35L5.41 20z\"/>\n",
              "  </svg>\n",
              "      </button>\n",
              "      \n",
              "  <style>\n",
              "    .colab-df-container {\n",
              "      display:flex;\n",
              "      flex-wrap:wrap;\n",
              "      gap: 12px;\n",
              "    }\n",
              "\n",
              "    .colab-df-convert {\n",
              "      background-color: #E8F0FE;\n",
              "      border: none;\n",
              "      border-radius: 50%;\n",
              "      cursor: pointer;\n",
              "      display: none;\n",
              "      fill: #1967D2;\n",
              "      height: 32px;\n",
              "      padding: 0 0 0 0;\n",
              "      width: 32px;\n",
              "    }\n",
              "\n",
              "    .colab-df-convert:hover {\n",
              "      background-color: #E2EBFA;\n",
              "      box-shadow: 0px 1px 2px rgba(60, 64, 67, 0.3), 0px 1px 3px 1px rgba(60, 64, 67, 0.15);\n",
              "      fill: #174EA6;\n",
              "    }\n",
              "\n",
              "    [theme=dark] .colab-df-convert {\n",
              "      background-color: #3B4455;\n",
              "      fill: #D2E3FC;\n",
              "    }\n",
              "\n",
              "    [theme=dark] .colab-df-convert:hover {\n",
              "      background-color: #434B5C;\n",
              "      box-shadow: 0px 1px 3px 1px rgba(0, 0, 0, 0.15);\n",
              "      filter: drop-shadow(0px 1px 2px rgba(0, 0, 0, 0.3));\n",
              "      fill: #FFFFFF;\n",
              "    }\n",
              "  </style>\n",
              "\n",
              "      <script>\n",
              "        const buttonEl =\n",
              "          document.querySelector('#df-1c1b80a1-d45a-4650-aee8-2e8546042849 button.colab-df-convert');\n",
              "        buttonEl.style.display =\n",
              "          google.colab.kernel.accessAllowed ? 'block' : 'none';\n",
              "\n",
              "        async function convertToInteractive(key) {\n",
              "          const element = document.querySelector('#df-1c1b80a1-d45a-4650-aee8-2e8546042849');\n",
              "          const dataTable =\n",
              "            await google.colab.kernel.invokeFunction('convertToInteractive',\n",
              "                                                     [key], {});\n",
              "          if (!dataTable) return;\n",
              "\n",
              "          const docLinkHtml = 'Like what you see? Visit the ' +\n",
              "            '<a target=\"_blank\" href=https://colab.research.google.com/notebooks/data_table.ipynb>data table notebook</a>'\n",
              "            + ' to learn more about interactive tables.';\n",
              "          element.innerHTML = '';\n",
              "          dataTable['output_type'] = 'display_data';\n",
              "          await google.colab.output.renderOutput(dataTable, element);\n",
              "          const docLink = document.createElement('div');\n",
              "          docLink.innerHTML = docLinkHtml;\n",
              "          element.appendChild(docLink);\n",
              "        }\n",
              "      </script>\n",
              "    </div>\n",
              "  </div>\n",
              "  "
            ]
          },
          "metadata": {},
          "execution_count": 3
        }
      ],
      "source": [
        "documents[:5]"
      ]
    },
    {
      "cell_type": "markdown",
      "metadata": {
        "id": "KBnvkZ3tpWpK"
      },
      "source": [
        "## Step 2: Data Preprocessing ##\n",
        "\n",
        "We will perform the following steps:\n",
        "\n",
        "* **Tokenization**: Split the text into sentences and the sentences into words. Lowercase the words and remove punctuation.\n",
        "* Words that have fewer than 3 characters are removed.\n",
        "* All **stopwords** are removed.\n",
        "* Words are **lemmatized** - words in third person are changed to first person and verbs in past and future tenses are changed into present.\n",
        "* Words are **stemmed** - words are reduced to their root form.\n",
        "\n",
        "This time, we'll make use of the gensim library and show you how  to preprocess text easily. "
      ]
    },
    {
      "cell_type": "code",
      "execution_count": null,
      "metadata": {
        "id": "bkFRERugpWpK"
      },
      "outputs": [],
      "source": [
        "'''\n",
        "Loading Gensim and nltk libraries\n",
        "'''\n",
        "# pip install gensim\n",
        "import gensim\n",
        "from gensim.utils import simple_preprocess\n",
        "from gensim.parsing.preprocessing import STOPWORDS\n",
        "from nltk.stem import WordNetLemmatizer, SnowballStemmer\n",
        "from nltk.stem.porter import *\n",
        "import numpy as np\n",
        "np.random.seed(400)"
      ]
    },
    {
      "cell_type": "code",
      "execution_count": null,
      "metadata": {
        "id": "fY0LYP74pWpL",
        "colab": {
          "base_uri": "https://localhost:8080/"
        },
        "outputId": "44a92422-556e-427e-d22f-42e557d2af37"
      },
      "outputs": [
        {
          "output_type": "stream",
          "name": "stderr",
          "text": [
            "[nltk_data] Downloading package omw-1.4 to /root/nltk_data...\n",
            "[nltk_data]   Package omw-1.4 is already up-to-date!\n",
            "[nltk_data] Downloading package wordnet to /root/nltk_data...\n",
            "[nltk_data]   Package wordnet is already up-to-date!\n",
            "[nltk_data] Downloading package stopwords to /root/nltk_data...\n",
            "[nltk_data]   Package stopwords is already up-to-date!\n",
            "[nltk_data] Downloading package punkt to /root/nltk_data...\n",
            "[nltk_data]   Package punkt is already up-to-date!\n"
          ]
        }
      ],
      "source": [
        "import nltk\n",
        "nltk.download('omw-1.4')\n",
        "nltk.download('wordnet')\n",
        "nltk.download('stopwords')\n",
        "nltk.download('punkt')\n",
        "from nltk.corpus import stopwords"
      ]
    },
    {
      "cell_type": "markdown",
      "metadata": {
        "id": "vnmFz7MSpWpL"
      },
      "source": [
        "### Lemmatizer Example\n",
        "Before preprocessing our dataset, let's first look at an lemmatizing example. What would be the output if we lemmatized the word 'went':"
      ]
    },
    {
      "cell_type": "code",
      "execution_count": null,
      "metadata": {
        "id": "d-qrWU8epWpM",
        "colab": {
          "base_uri": "https://localhost:8080/"
        },
        "outputId": "e3943dd3-18c0-4fb4-d873-ae9c8ce0fdda"
      },
      "outputs": [
        {
          "output_type": "stream",
          "name": "stdout",
          "text": [
            "go\n"
          ]
        }
      ],
      "source": [
        "print(WordNetLemmatizer().lemmatize('went', pos = 'v')) # past tense to present tense"
      ]
    },
    {
      "cell_type": "markdown",
      "metadata": {
        "id": "L5WmKNdBpWpM"
      },
      "source": [
        "### Stemmer Example\n",
        "Let's also look at a stemming example. Let's throw a number of words at the stemmer and see how it deals with each one:"
      ]
    },
    {
      "cell_type": "code",
      "execution_count": null,
      "metadata": {
        "id": "ihDytHXDpWpM",
        "colab": {
          "base_uri": "https://localhost:8080/",
          "height": 645
        },
        "outputId": "f869f9d3-c425-46df-c77a-7548777bb1cd"
      },
      "outputs": [
        {
          "output_type": "execute_result",
          "data": {
            "text/plain": [
              "   original word stemmed\n",
              "0       caresses  caress\n",
              "1          flies     fli\n",
              "2           dies     die\n",
              "3          mules    mule\n",
              "4         denied    deni\n",
              "5           died     die\n",
              "6         agreed    agre\n",
              "7          owned     own\n",
              "8        humbled   humbl\n",
              "9          sized    size\n",
              "10       meeting    meet\n",
              "11       stating   state\n",
              "12       siezing    siez\n",
              "13   itemization    item\n",
              "14   sensational  sensat\n",
              "15   traditional  tradit\n",
              "16     reference   refer\n",
              "17     colonizer   colon\n",
              "18       plotted    plot"
            ],
            "text/html": [
              "\n",
              "  <div id=\"df-83e582c3-8cb4-4c98-bc10-01b1c99a27d4\">\n",
              "    <div class=\"colab-df-container\">\n",
              "      <div>\n",
              "<style scoped>\n",
              "    .dataframe tbody tr th:only-of-type {\n",
              "        vertical-align: middle;\n",
              "    }\n",
              "\n",
              "    .dataframe tbody tr th {\n",
              "        vertical-align: top;\n",
              "    }\n",
              "\n",
              "    .dataframe thead th {\n",
              "        text-align: right;\n",
              "    }\n",
              "</style>\n",
              "<table border=\"1\" class=\"dataframe\">\n",
              "  <thead>\n",
              "    <tr style=\"text-align: right;\">\n",
              "      <th></th>\n",
              "      <th>original word</th>\n",
              "      <th>stemmed</th>\n",
              "    </tr>\n",
              "  </thead>\n",
              "  <tbody>\n",
              "    <tr>\n",
              "      <th>0</th>\n",
              "      <td>caresses</td>\n",
              "      <td>caress</td>\n",
              "    </tr>\n",
              "    <tr>\n",
              "      <th>1</th>\n",
              "      <td>flies</td>\n",
              "      <td>fli</td>\n",
              "    </tr>\n",
              "    <tr>\n",
              "      <th>2</th>\n",
              "      <td>dies</td>\n",
              "      <td>die</td>\n",
              "    </tr>\n",
              "    <tr>\n",
              "      <th>3</th>\n",
              "      <td>mules</td>\n",
              "      <td>mule</td>\n",
              "    </tr>\n",
              "    <tr>\n",
              "      <th>4</th>\n",
              "      <td>denied</td>\n",
              "      <td>deni</td>\n",
              "    </tr>\n",
              "    <tr>\n",
              "      <th>5</th>\n",
              "      <td>died</td>\n",
              "      <td>die</td>\n",
              "    </tr>\n",
              "    <tr>\n",
              "      <th>6</th>\n",
              "      <td>agreed</td>\n",
              "      <td>agre</td>\n",
              "    </tr>\n",
              "    <tr>\n",
              "      <th>7</th>\n",
              "      <td>owned</td>\n",
              "      <td>own</td>\n",
              "    </tr>\n",
              "    <tr>\n",
              "      <th>8</th>\n",
              "      <td>humbled</td>\n",
              "      <td>humbl</td>\n",
              "    </tr>\n",
              "    <tr>\n",
              "      <th>9</th>\n",
              "      <td>sized</td>\n",
              "      <td>size</td>\n",
              "    </tr>\n",
              "    <tr>\n",
              "      <th>10</th>\n",
              "      <td>meeting</td>\n",
              "      <td>meet</td>\n",
              "    </tr>\n",
              "    <tr>\n",
              "      <th>11</th>\n",
              "      <td>stating</td>\n",
              "      <td>state</td>\n",
              "    </tr>\n",
              "    <tr>\n",
              "      <th>12</th>\n",
              "      <td>siezing</td>\n",
              "      <td>siez</td>\n",
              "    </tr>\n",
              "    <tr>\n",
              "      <th>13</th>\n",
              "      <td>itemization</td>\n",
              "      <td>item</td>\n",
              "    </tr>\n",
              "    <tr>\n",
              "      <th>14</th>\n",
              "      <td>sensational</td>\n",
              "      <td>sensat</td>\n",
              "    </tr>\n",
              "    <tr>\n",
              "      <th>15</th>\n",
              "      <td>traditional</td>\n",
              "      <td>tradit</td>\n",
              "    </tr>\n",
              "    <tr>\n",
              "      <th>16</th>\n",
              "      <td>reference</td>\n",
              "      <td>refer</td>\n",
              "    </tr>\n",
              "    <tr>\n",
              "      <th>17</th>\n",
              "      <td>colonizer</td>\n",
              "      <td>colon</td>\n",
              "    </tr>\n",
              "    <tr>\n",
              "      <th>18</th>\n",
              "      <td>plotted</td>\n",
              "      <td>plot</td>\n",
              "    </tr>\n",
              "  </tbody>\n",
              "</table>\n",
              "</div>\n",
              "      <button class=\"colab-df-convert\" onclick=\"convertToInteractive('df-83e582c3-8cb4-4c98-bc10-01b1c99a27d4')\"\n",
              "              title=\"Convert this dataframe to an interactive table.\"\n",
              "              style=\"display:none;\">\n",
              "        \n",
              "  <svg xmlns=\"http://www.w3.org/2000/svg\" height=\"24px\"viewBox=\"0 0 24 24\"\n",
              "       width=\"24px\">\n",
              "    <path d=\"M0 0h24v24H0V0z\" fill=\"none\"/>\n",
              "    <path d=\"M18.56 5.44l.94 2.06.94-2.06 2.06-.94-2.06-.94-.94-2.06-.94 2.06-2.06.94zm-11 1L8.5 8.5l.94-2.06 2.06-.94-2.06-.94L8.5 2.5l-.94 2.06-2.06.94zm10 10l.94 2.06.94-2.06 2.06-.94-2.06-.94-.94-2.06-.94 2.06-2.06.94z\"/><path d=\"M17.41 7.96l-1.37-1.37c-.4-.4-.92-.59-1.43-.59-.52 0-1.04.2-1.43.59L10.3 9.45l-7.72 7.72c-.78.78-.78 2.05 0 2.83L4 21.41c.39.39.9.59 1.41.59.51 0 1.02-.2 1.41-.59l7.78-7.78 2.81-2.81c.8-.78.8-2.07 0-2.86zM5.41 20L4 18.59l7.72-7.72 1.47 1.35L5.41 20z\"/>\n",
              "  </svg>\n",
              "      </button>\n",
              "      \n",
              "  <style>\n",
              "    .colab-df-container {\n",
              "      display:flex;\n",
              "      flex-wrap:wrap;\n",
              "      gap: 12px;\n",
              "    }\n",
              "\n",
              "    .colab-df-convert {\n",
              "      background-color: #E8F0FE;\n",
              "      border: none;\n",
              "      border-radius: 50%;\n",
              "      cursor: pointer;\n",
              "      display: none;\n",
              "      fill: #1967D2;\n",
              "      height: 32px;\n",
              "      padding: 0 0 0 0;\n",
              "      width: 32px;\n",
              "    }\n",
              "\n",
              "    .colab-df-convert:hover {\n",
              "      background-color: #E2EBFA;\n",
              "      box-shadow: 0px 1px 2px rgba(60, 64, 67, 0.3), 0px 1px 3px 1px rgba(60, 64, 67, 0.15);\n",
              "      fill: #174EA6;\n",
              "    }\n",
              "\n",
              "    [theme=dark] .colab-df-convert {\n",
              "      background-color: #3B4455;\n",
              "      fill: #D2E3FC;\n",
              "    }\n",
              "\n",
              "    [theme=dark] .colab-df-convert:hover {\n",
              "      background-color: #434B5C;\n",
              "      box-shadow: 0px 1px 3px 1px rgba(0, 0, 0, 0.15);\n",
              "      filter: drop-shadow(0px 1px 2px rgba(0, 0, 0, 0.3));\n",
              "      fill: #FFFFFF;\n",
              "    }\n",
              "  </style>\n",
              "\n",
              "      <script>\n",
              "        const buttonEl =\n",
              "          document.querySelector('#df-83e582c3-8cb4-4c98-bc10-01b1c99a27d4 button.colab-df-convert');\n",
              "        buttonEl.style.display =\n",
              "          google.colab.kernel.accessAllowed ? 'block' : 'none';\n",
              "\n",
              "        async function convertToInteractive(key) {\n",
              "          const element = document.querySelector('#df-83e582c3-8cb4-4c98-bc10-01b1c99a27d4');\n",
              "          const dataTable =\n",
              "            await google.colab.kernel.invokeFunction('convertToInteractive',\n",
              "                                                     [key], {});\n",
              "          if (!dataTable) return;\n",
              "\n",
              "          const docLinkHtml = 'Like what you see? Visit the ' +\n",
              "            '<a target=\"_blank\" href=https://colab.research.google.com/notebooks/data_table.ipynb>data table notebook</a>'\n",
              "            + ' to learn more about interactive tables.';\n",
              "          element.innerHTML = '';\n",
              "          dataTable['output_type'] = 'display_data';\n",
              "          await google.colab.output.renderOutput(dataTable, element);\n",
              "          const docLink = document.createElement('div');\n",
              "          docLink.innerHTML = docLinkHtml;\n",
              "          element.appendChild(docLink);\n",
              "        }\n",
              "      </script>\n",
              "    </div>\n",
              "  </div>\n",
              "  "
            ]
          },
          "metadata": {},
          "execution_count": 17
        }
      ],
      "source": [
        "stemmer = SnowballStemmer(\"english\")\n",
        "original_words = ['caresses', 'flies', 'dies', 'mules', 'denied','died', 'agreed', 'owned', \n",
        "           'humbled', 'sized','meeting', 'stating', 'siezing', 'itemization','sensational', \n",
        "           'traditional', 'reference', 'colonizer','plotted']\n",
        "singles = [stemmer.stem(plural) for plural in original_words]\n",
        "\n",
        "pd.DataFrame(data={'original word':original_words, 'stemmed':singles })"
      ]
    },
    {
      "cell_type": "code",
      "execution_count": null,
      "metadata": {
        "id": "1hGo0rQapWpN"
      },
      "outputs": [],
      "source": [
        "'''\n",
        "Write a function to perform the pre processing steps on the entire dataset\n",
        "'''\n",
        "\n",
        "def lemmatize_stemming(text):\n",
        "    '''\n",
        "        1) Lemmatize the text\n",
        "        2) Then, stem the text\n",
        "        3) return final text\n",
        "    '''\n",
        "    '''sentences = nltk.sent_tokenize(text)\n",
        "    lemmatizer = WordNetLemmatizer()\n",
        "    \n",
        "    for i in range(len(sentences)):\n",
        "      words = nltk.word_tokenize(sentences[i])\n",
        "      words = [stemmer.stem(word) for word in words if word not in set(stopwords.words('english'))]\n",
        "      sentences[i] = ' '.join(words)\n",
        "     \n",
        "    for i in range(len(sentences)):\n",
        "      wo = nltk.word_tokenize(sentences[i])\n",
        "      wo = [lemmatizer.lemmatize(word) for word in wo if word not in set(stopwords.words('english'))]\n",
        "      sentences[i] = ' '.join(words)'''\n",
        "\n",
        "    return stemmer.stem(WordNetLemmatizer().lemmatize(text, pos='v'))\n",
        "\n",
        "\n",
        "\n",
        "# Tokenize and lemmatize. Look up how preprocessing is being done\n",
        "def preprocesser_words(text):\n",
        "    result=[]\n",
        "    for token in gensim.utils.simple_preprocess(text) :\n",
        "        k=len(token)\n",
        "        if token not in gensim.parsing.preprocessing.STOPWORDS and (k>3):\n",
        "          result.append(lemmatize_stemming(token))\n",
        "            \n",
        "            # TODO: Apply lemmatize_stemming on the token, then add to the results list\n",
        "          \n",
        "        \n",
        "        \n",
        "    return result\n"
      ]
    },
    {
      "cell_type": "code",
      "execution_count": null,
      "metadata": {
        "id": "iRylcKhTpWpN",
        "colab": {
          "base_uri": "https://localhost:8080/"
        },
        "outputId": "4a7fbe4f-3d62-4866-9cc2-6865f948430c"
      },
      "outputs": [
        {
          "output_type": "stream",
          "name": "stdout",
          "text": [
            "Original document: \n",
            "['rain', 'helps', 'dampen', 'bushfires']\n",
            "\n",
            "\n",
            "Tokenized and lemmatized document: \n",
            "['rain', 'help', 'dampen', 'bushfir']\n"
          ]
        }
      ],
      "source": [
        "'''\n",
        "Preview a document after preprocessing\n",
        "'''\n",
        "document_num = 4310\n",
        "doc_sample = documents[documents['index'] == document_num].values[0][0]\n",
        "\n",
        "print(\"Original document: \")\n",
        "words = []\n",
        "for word in doc_sample.split(' '):\n",
        "    words.append(word)\n",
        "print(words)\n",
        "print(\"\\n\\nTokenized and lemmatized document: \")\n",
        "print(preprocesser_words(doc_sample))"
      ]
    },
    {
      "cell_type": "markdown",
      "metadata": {
        "id": "yFkSYvtrpWpO"
      },
      "source": [
        "Let's now preprocess all the news headlines we have. To do that, let's use the [map](https://pandas.pydata.org/pandas-docs/stable/generated/pandas.Series.map.html) function from pandas to apply `preprocess()` to the `headline_text` column\n",
        "\n",
        "**Note**: This may take a few minutes"
      ]
    },
    {
      "cell_type": "code",
      "execution_count": null,
      "metadata": {
        "id": "6Sf1qqI5pWpO"
      },
      "outputs": [],
      "source": [
        "# TODO: preprocess all the headlines, saving the list of results as 'processed_docs'\n",
        "processed_docs = documents['headline_text'].map(preprocesser_words)"
      ]
    },
    {
      "cell_type": "code",
      "execution_count": null,
      "metadata": {
        "id": "HTw9F2flpWpO",
        "colab": {
          "base_uri": "https://localhost:8080/"
        },
        "outputId": "0fd3618a-9b59-4402-b2d7-abf32ddf0fd2"
      },
      "outputs": [
        {
          "output_type": "execute_result",
          "data": {
            "text/plain": [
              "0            [decid, communiti, broadcast, licenc]\n",
              "1                               [wit, awar, defam]\n",
              "2           [call, infrastructur, protect, summit]\n",
              "3                      [staff, aust, strike, rise]\n",
              "4             [strike, affect, australian, travel]\n",
              "5               [ambiti, olsson, win, tripl, jump]\n",
              "6           [antic, delight, record, break, barca]\n",
              "7    [aussi, qualifi, stosur, wast, memphi, match]\n",
              "8            [aust, address, secur, council, iraq]\n",
              "9                         [australia, lock, timet]\n",
              "Name: headline_text, dtype: object"
            ]
          },
          "metadata": {},
          "execution_count": 23
        }
      ],
      "source": [
        "'''\n",
        "Preview 'processed_docs'\n",
        "'''\n",
        "processed_docs[:10]"
      ]
    },
    {
      "cell_type": "markdown",
      "metadata": {
        "id": "kwd921QSpWpO"
      },
      "source": [
        "## Step 3.1: Bag of words on the dataset\n",
        "\n",
        "Now let's create a dictionary from 'processed_docs' containing the number of times a word appears in the training set. To do that, let's pass `processed_docs` to [`gensim.corpora.Dictionary()`](https://radimrehurek.com/gensim/corpora/dictionary.html) and call it '`dictionary`'."
      ]
    },
    {
      "cell_type": "code",
      "execution_count": null,
      "metadata": {
        "id": "kT7XTJG-pWpP"
      },
      "outputs": [],
      "source": [
        "'''\n",
        "Create a dictionary from 'processed_docs' containing the number of times a word appears \n",
        "in the training set using gensim.corpora.Dictionary and call it 'dictionary'\n",
        "'''\n",
        "#  Todo\n",
        "dictionary = gensim.corpora.Dictionary(processed_docs)"
      ]
    },
    {
      "cell_type": "code",
      "execution_count": null,
      "metadata": {
        "id": "xHZ-HfnjpWpP",
        "colab": {
          "base_uri": "https://localhost:8080/"
        },
        "outputId": "4bfcbcea-9b29-4a94-8699-d2529fb8f3c1"
      },
      "outputs": [
        {
          "output_type": "stream",
          "name": "stdout",
          "text": [
            "0 broadcast\n",
            "1 communiti\n",
            "2 decid\n",
            "3 licenc\n",
            "4 awar\n",
            "5 defam\n",
            "6 wit\n",
            "7 call\n",
            "8 infrastructur\n",
            "9 protect\n",
            "10 summit\n"
          ]
        }
      ],
      "source": [
        "'''\n",
        "Checking dictionary created\n",
        "'''\n",
        "count = 0\n",
        "for k, v in dictionary.iteritems():\n",
        "    print(k, v)\n",
        "    count += 1\n",
        "    if count > 10:\n",
        "        break"
      ]
    },
    {
      "cell_type": "markdown",
      "metadata": {
        "id": "Fp2tCyl9pWpP"
      },
      "source": [
        "** Gensim filter_extremes **\n",
        "\n",
        "[`filter_extremes(no_below=5, no_above=0.5, keep_n=100000)`](https://radimrehurek.com/gensim/corpora/dictionary.html#gensim.corpora.dictionary.Dictionary.filter_extremes)\n",
        "\n",
        "Filter out tokens that appear in\n",
        "\n",
        "* less than no_below documents (absolute number) or\n",
        "* more than no_above documents (fraction of total corpus size, not absolute number).\n",
        "* after (1) and (2), keep only the first keep_n most frequent tokens (or keep all if None)."
      ]
    },
    {
      "cell_type": "code",
      "execution_count": null,
      "metadata": {
        "id": "kKUURducpWpP"
      },
      "outputs": [],
      "source": [
        "'''\n",
        "Remove very rare and very common words:\n",
        "\n",
        "- words appearing less than 15 times\n",
        "- words appearing in more than 10% of all documents\n",
        "- keep 100000 most frequent tokens\n",
        "'''\n",
        "# TODO: apply dictionary.filter_extremes() with the parameters mentioned above\n",
        "dictionary.filter_extremes(no_below=15, no_above=0.1,keep_n=100000)"
      ]
    },
    {
      "cell_type": "markdown",
      "metadata": {
        "id": "9PWhJRUMpWpQ"
      },
      "source": [
        "** Gensim doc2bow **\n",
        "\n",
        "[`doc2bow(document)`](https://radimrehurek.com/gensim/corpora/dictionary.html#gensim.corpora.dictionary.Dictionary.doc2bow)\n",
        "\n",
        "* Convert document (a list of words) into the bag-of-words format = list of (token_id, token_count) 2-tuples. Each word is assumed to be a tokenized and normalized string (either unicode or utf8-encoded). No further preprocessing is done on the words in document; apply tokenization, stemming etc. before calling this method."
      ]
    },
    {
      "cell_type": "code",
      "execution_count": null,
      "metadata": {
        "id": "d_cNaS8apWpQ"
      },
      "outputs": [],
      "source": [
        "'''\n",
        "Create the Bag-of-words model for each document i.e for each document we create a dictionary reporting how many\n",
        "words and how many times those words appear. Save this to 'bow_corpus'.\n",
        "Hint: Since we want a BoW model for each document, you can use list comprehension instead of for loops. List\n",
        "comprehension is the more pythonic way.\n",
        "'''\n",
        "#  Todo:\n",
        "bow_corpus = [dictionary.doc2bow(document) for document in processed_docs]"
      ]
    },
    {
      "cell_type": "code",
      "execution_count": null,
      "metadata": {
        "id": "rH8KLnXzpWpQ",
        "colab": {
          "base_uri": "https://localhost:8080/"
        },
        "outputId": "d2545389-1b9f-40b7-e52c-bf3c9e5c255a"
      },
      "outputs": [
        {
          "output_type": "execute_result",
          "data": {
            "text/plain": [
              "[(76, 1), (112, 1), (483, 1), (4014, 1)]"
            ]
          },
          "metadata": {},
          "execution_count": 28
        }
      ],
      "source": [
        "'''\n",
        "Checking Bag of Words corpus for our sample document --> (token_id, token_count)\n",
        "'''\n",
        "bow_corpus[document_num]"
      ]
    },
    {
      "cell_type": "code",
      "execution_count": null,
      "metadata": {
        "id": "kYZ_DWD1pWpR",
        "colab": {
          "base_uri": "https://localhost:8080/"
        },
        "outputId": "b578791b-3b06-429d-ea9c-e24764a41bf4"
      },
      "outputs": [
        {
          "output_type": "stream",
          "name": "stdout",
          "text": [
            "Word 76 (\"bushfir\") appears 1 time.\n",
            "Word 112 (\"help\") appears 1 time.\n",
            "Word 483 (\"rain\") appears 1 time.\n",
            "Word 4014 (\"dampen\") appears 1 time.\n"
          ]
        }
      ],
      "source": [
        "'''\n",
        "Preview BOW for our sample preprocessed document\n",
        "'''\n",
        "# Here document_num is document number 4310 which we have checked in Step 2\n",
        "bow_doc_4310 = bow_corpus[document_num]\n",
        "\n",
        "for i in range(len(bow_doc_4310)):\n",
        "    print(\"Word {} (\\\"{}\\\") appears {} time.\".format(bow_doc_4310[i][0], \n",
        "                                                     dictionary[bow_doc_4310[i][0]], \n",
        "                                                     bow_doc_4310[i][1]))"
      ]
    },
    {
      "cell_type": "markdown",
      "metadata": {
        "id": "GeiVw3E7pWpR"
      },
      "source": [
        "## Step 3.2: TF-IDF on our document set ##\n",
        "\n",
        "While performing TF-IDF on the corpus is not necessary for LDA implemention using the gensim model, it is recemmended. TF-IDF expects a bag-of-words (integer values) training corpus during initialization. During transformation, it will take a vector and return another vector of the same dimensionality.\n",
        "\n",
        "*Please note: The author of Gensim dictates the standard procedure for LDA to be using the Bag of Words model.*"
      ]
    },
    {
      "cell_type": "markdown",
      "metadata": {
        "id": "5xy2fd-zpWpR"
      },
      "source": [
        "** TF-IDF stands for \"Term Frequency, Inverse Document Frequency\".**\n",
        "\n",
        "* It is a way to score the importance of words (or \"terms\") in a document based on how frequently they appear across multiple documents.\n",
        "* If a word appears frequently in a document, it's important. Give the word a high score. But if a word appears in many documents, it's not a unique identifier. Give the word a low score.\n",
        "* Therefore, common words like \"the\" and \"for\", which appear in many documents, will be scaled down. Words that appear frequently in a single document will be scaled up.\n",
        "\n",
        "In other words:\n",
        "\n",
        "* TF(w) = `(Number of times term w appears in a document) / (Total number of terms in the document)`.\n",
        "* IDF(w) = `log_e(Total number of documents / Number of documents with term w in it)`.\n",
        "\n",
        "** For example **\n",
        "\n",
        "* Consider a document containing `100` words wherein the word 'tiger' appears 3 times. \n",
        "* The term frequency (i.e., tf) for 'tiger' is then: \n",
        "    - `TF = (3 / 100) = 0.03`. \n",
        "\n",
        "* Now, assume we have `10 million` documents and the word 'tiger' appears in `1000` of these. Then, the inverse document frequency (i.e., idf) is calculated as:\n",
        "    - `IDF = log(10,000,000 / 1,000) = 4`. \n",
        "\n",
        "* Thus, the Tf-idf weight is the product of these quantities: \n",
        "    - `TF-IDF = 0.03 * 4 = 0.12`."
      ]
    },
    {
      "cell_type": "code",
      "execution_count": null,
      "metadata": {
        "id": "e0GzZRUXpWpR"
      },
      "outputs": [],
      "source": [
        "'''\n",
        "Create tf-idf model object using models.TfidfModel on 'bow_corpus' and save it to 'tfidf'\n",
        "'''\n",
        "from gensim import corpora, models\n",
        "# TODO\n",
        "tf_idf = models.TfidfModel(bow_corpus)"
      ]
    },
    {
      "cell_type": "code",
      "execution_count": null,
      "metadata": {
        "id": "n8zmUg9ypWpR"
      },
      "outputs": [],
      "source": [
        "'''\n",
        "Apply transformation to the entire corpus and call it 'corpus_tfidf'\n",
        "'''\n",
        "# TODO\n",
        "corpus_tfidf = tf_idf[bow_corpus]"
      ]
    },
    {
      "cell_type": "code",
      "execution_count": null,
      "metadata": {
        "id": "vufyn6POpWpS",
        "colab": {
          "base_uri": "https://localhost:8080/"
        },
        "outputId": "603ae142-d6d7-4566-b8ec-65af320f2b2d"
      },
      "outputs": [
        {
          "output_type": "stream",
          "name": "stdout",
          "text": [
            "[(0, 0.5892908644709983),\n",
            " (1, 0.38929657403503015),\n",
            " (2, 0.4964985198530063),\n",
            " (3, 0.5046520328695662)]\n"
          ]
        }
      ],
      "source": [
        "'''\n",
        "Preview TF-IDF scores for our first document --> --> (token_id, tfidf score)\n",
        "'''\n",
        "from pprint import pprint\n",
        "for doc in corpus_tfidf:\n",
        "    pprint(doc)\n",
        "    break"
      ]
    },
    {
      "cell_type": "markdown",
      "metadata": {
        "id": "8FjEKw65pWpS"
      },
      "source": [
        "## Step 4.1: Running LDA using Bag of Words ##\n",
        "\n",
        "We are going for 10 topics in the document corpus.\n",
        "\n",
        "** We will be running LDA using all CPU cores to parallelize and speed up model training.**\n",
        "\n",
        "Some of the parameters we will be tweaking are:\n",
        "\n",
        "* **num_topics** is the number of requested latent topics to be extracted from the training corpus.\n",
        "* **id2word** is a mapping from word ids (integers) to words (strings). It is used to determine the vocabulary size, as well as for debugging and topic printing.\n",
        "* **workers** is the number of extra processes to use for parallelization. Uses all available cores by default.\n",
        "* **alpha** and **eta** are hyperparameters that affect sparsity of the document-topic (theta) and topic-word (lambda) distributions. We will let these be the default values for now(default value is `1/num_topics`)\n",
        "    - Alpha is the per document topic distribution.\n",
        "        * High alpha: Every document has a mixture of all topics(documents appear similar to each other).\n",
        "        * Low alpha: Every document has a mixture of very few topics\n",
        "\n",
        "    - Eta is the per topic word distribution.\n",
        "        * High eta: Each topic has a mixture of most words(topics appear similar to each other).\n",
        "        * Low eta: Each topic has a mixture of few words.\n",
        "\n",
        "* ** passes ** is the number of training passes through the corpus. For  example, if the training corpus has 50,000 documents, chunksize is  10,000, passes is 2, then online training is done in 10 updates: \n",
        "    * `#1 documents 0-9,999 `\n",
        "    * `#2 documents 10,000-19,999 `\n",
        "    * `#3 documents 20,000-29,999 `\n",
        "    * `#4 documents 30,000-39,999 `\n",
        "    * `#5 documents 40,000-49,999 `\n",
        "    * `#6 documents 0-9,999 `\n",
        "    * `#7 documents 10,000-19,999 `\n",
        "    * `#8 documents 20,000-29,999 `\n",
        "    * `#9 documents 30,000-39,999 `\n",
        "    * `#10 documents 40,000-49,999` "
      ]
    },
    {
      "cell_type": "code",
      "execution_count": null,
      "metadata": {
        "id": "Gyka8tf9pWpS"
      },
      "outputs": [],
      "source": [
        "# LDA multicore \n",
        "'''\n",
        "Train your lda model using gensim.models.LdaMulticore and save it to 'lda_model'\n",
        "\n",
        "If Multicore is throwing errors on you laptop, use LDA mono-core, gensim.models.LdaModel\n",
        "'''\n",
        "# TODO\n",
        "lda_model = gensim.models.LdaMulticore(bow_corpus, num_topics=10, id2word=dictionary, passes=2)\n"
      ]
    },
    {
      "cell_type": "code",
      "execution_count": null,
      "metadata": {
        "id": "jqxcQszBpWpS",
        "colab": {
          "base_uri": "https://localhost:8080/"
        },
        "outputId": "af069410-eba4-4d6c-9c4a-63d0e2fe8003"
      },
      "outputs": [
        {
          "output_type": "stream",
          "name": "stdout",
          "text": [
            "Topic: 0 \n",
            "Words: 0.030*\"polic\" + 0.028*\"charg\" + 0.028*\"court\" + 0.021*\"murder\" + 0.017*\"face\" + 0.017*\"alleg\" + 0.014*\"year\" + 0.014*\"jail\" + 0.014*\"accus\" + 0.013*\"child\"\n",
            "\n",
            "\n",
            "Topic: 1 \n",
            "Words: 0.043*\"trump\" + 0.029*\"govern\" + 0.017*\"help\" + 0.012*\"fund\" + 0.012*\"work\" + 0.012*\"say\" + 0.012*\"plan\" + 0.011*\"water\" + 0.011*\"servic\" + 0.011*\"communiti\"\n",
            "\n",
            "\n",
            "Topic: 2 \n",
            "Words: 0.025*\"death\" + 0.021*\"donald\" + 0.018*\"attack\" + 0.018*\"polic\" + 0.018*\"brisban\" + 0.017*\"kill\" + 0.017*\"sydney\" + 0.016*\"melbourn\" + 0.015*\"china\" + 0.015*\"miss\"\n",
            "\n",
            "\n",
            "Topic: 3 \n",
            "Words: 0.022*\"die\" + 0.015*\"take\" + 0.014*\"korea\" + 0.014*\"minist\" + 0.012*\"prison\" + 0.011*\"drum\" + 0.011*\"find\" + 0.011*\"energi\" + 0.011*\"releas\" + 0.011*\"hold\"\n",
            "\n",
            "\n",
            "Topic: 4 \n",
            "Words: 0.019*\"open\" + 0.016*\"tasmanian\" + 0.014*\"perth\" + 0.014*\"australian\" + 0.013*\"break\" + 0.012*\"countri\" + 0.011*\"game\" + 0.010*\"young\" + 0.010*\"deal\" + 0.009*\"make\"\n",
            "\n",
            "\n",
            "Topic: 5 \n",
            "Words: 0.027*\"north\" + 0.024*\"nation\" + 0.021*\"coast\" + 0.018*\"power\" + 0.016*\"rise\" + 0.015*\"call\" + 0.015*\"island\" + 0.015*\"west\" + 0.014*\"price\" + 0.013*\"gold\"\n",
            "\n",
            "\n",
            "Topic: 6 \n",
            "Words: 0.022*\"elect\" + 0.022*\"hous\" + 0.017*\"state\" + 0.016*\"report\" + 0.016*\"say\" + 0.013*\"chang\" + 0.012*\"show\" + 0.012*\"polit\" + 0.012*\"protest\" + 0.011*\"street\"\n",
            "\n",
            "\n",
            "Topic: 7 \n",
            "Words: 0.021*\"school\" + 0.020*\"women\" + 0.018*\"live\" + 0.017*\"market\" + 0.015*\"high\" + 0.014*\"australia\" + 0.012*\"share\" + 0.011*\"fall\" + 0.011*\"darwin\" + 0.010*\"hobart\"\n",
            "\n",
            "\n",
            "Topic: 8 \n",
            "Words: 0.031*\"australia\" + 0.026*\"adelaid\" + 0.017*\"dead\" + 0.016*\"tasmania\" + 0.014*\"victoria\" + 0.013*\"marriag\" + 0.013*\"citi\" + 0.012*\"royal\" + 0.012*\"shoot\" + 0.012*\"vote\"\n",
            "\n",
            "\n",
            "Topic: 9 \n",
            "Words: 0.028*\"queensland\" + 0.025*\"world\" + 0.021*\"south\" + 0.020*\"canberra\" + 0.019*\"test\" + 0.017*\"australia\" + 0.016*\"turnbul\" + 0.016*\"final\" + 0.014*\"peopl\" + 0.012*\"leagu\"\n",
            "\n",
            "\n"
          ]
        }
      ],
      "source": [
        "'''\n",
        "For each topic, we will explore the words occuring in that topic and its relative weight\n",
        "'''\n",
        "for idx, topic in lda_model.print_topics(-1):\n",
        "    print(\"Topic: {} \\nWords: {}\".format(idx, topic))\n",
        "    print(\"\\n\")"
      ]
    },
    {
      "cell_type": "markdown",
      "metadata": {
        "id": "4XsIs4jrpWpT"
      },
      "source": [
        "### Classification of the topics ###\n",
        "\n",
        "Using the words in each topic and their corresponding weights, what categories were you able to infer?\n",
        "\n",
        "* 0: election\n",
        "* 1: match scores related\n",
        "* 2: casualties related\n",
        "* 3: price\n",
        "* 4: legal actions\n",
        "* 5: service\n",
        "* 6: \n",
        "* 7:  \n",
        "* 8: \n",
        "* 9: "
      ]
    },
    {
      "cell_type": "markdown",
      "metadata": {
        "id": "CiKKut8LpWpT"
      },
      "source": [
        "## Step 4.2 Running LDA using TF-IDF ##"
      ]
    },
    {
      "cell_type": "code",
      "execution_count": null,
      "metadata": {
        "id": "63tGb1QvpWpT"
      },
      "outputs": [],
      "source": [
        "'''\n",
        "Define lda model using corpus_tfidf\n",
        "'''\n",
        "# TODO\n",
        "lda_model_tfidf = gensim.models.LdaMulticore(bow_corpus, num_topics=10, id2word=dictionary, passes=2)"
      ]
    },
    {
      "cell_type": "code",
      "execution_count": null,
      "metadata": {
        "id": "cm1dntNSpWpT",
        "colab": {
          "base_uri": "https://localhost:8080/"
        },
        "outputId": "a86caea1-5749-46fb-f651-345125a35852"
      },
      "outputs": [
        {
          "output_type": "stream",
          "name": "stdout",
          "text": [
            "Topic: 0 Word: 0.023*\"perth\" + 0.021*\"help\" + 0.016*\"tasmania\" + 0.015*\"chang\" + 0.014*\"break\" + 0.014*\"open\" + 0.013*\"marriag\" + 0.013*\"street\" + 0.012*\"busi\" + 0.011*\"farmer\"\n",
            "\n",
            "\n",
            "Topic: 1 Word: 0.028*\"north\" + 0.022*\"coast\" + 0.019*\"market\" + 0.015*\"west\" + 0.014*\"share\" + 0.014*\"bank\" + 0.014*\"gold\" + 0.012*\"flood\" + 0.011*\"liber\" + 0.011*\"lead\"\n",
            "\n",
            "\n",
            "Topic: 2 Word: 0.026*\"govern\" + 0.024*\"queensland\" + 0.018*\"nation\" + 0.014*\"plan\" + 0.013*\"school\" + 0.013*\"health\" + 0.013*\"indigen\" + 0.012*\"rise\" + 0.012*\"council\" + 0.011*\"fund\"\n",
            "\n",
            "\n",
            "Topic: 3 Word: 0.052*\"australia\" + 0.043*\"trump\" + 0.015*\"live\" + 0.015*\"south\" + 0.013*\"test\" + 0.012*\"world\" + 0.012*\"record\" + 0.011*\"show\" + 0.011*\"korea\" + 0.011*\"china\"\n",
            "\n",
            "\n",
            "Topic: 4 Word: 0.054*\"australian\" + 0.017*\"time\" + 0.014*\"polit\" + 0.013*\"feder\" + 0.013*\"royal\" + 0.013*\"famili\" + 0.013*\"vote\" + 0.011*\"commiss\" + 0.010*\"ash\" + 0.009*\"hit\"\n",
            "\n",
            "\n",
            "Topic: 5 Word: 0.029*\"charg\" + 0.029*\"court\" + 0.022*\"murder\" + 0.018*\"face\" + 0.018*\"alleg\" + 0.016*\"polic\" + 0.014*\"accus\" + 0.014*\"child\" + 0.013*\"woman\" + 0.013*\"peopl\"\n",
            "\n",
            "\n",
            "Topic: 6 Word: 0.038*\"year\" + 0.021*\"canberra\" + 0.016*\"tasmanian\" + 0.014*\"life\" + 0.012*\"sentenc\" + 0.012*\"protest\" + 0.012*\"senat\" + 0.011*\"warn\" + 0.010*\"victorian\" + 0.010*\"campaign\"\n",
            "\n",
            "\n",
            "Topic: 7 Word: 0.025*\"polic\" + 0.024*\"kill\" + 0.022*\"crash\" + 0.021*\"die\" + 0.018*\"shoot\" + 0.017*\"dead\" + 0.016*\"death\" + 0.014*\"investig\" + 0.013*\"week\" + 0.012*\"attack\"\n",
            "\n",
            "\n",
            "Topic: 8 Word: 0.024*\"adelaid\" + 0.019*\"sydney\" + 0.018*\"brisban\" + 0.017*\"turnbul\" + 0.017*\"final\" + 0.012*\"victoria\" + 0.011*\"return\" + 0.010*\"game\" + 0.010*\"hobart\" + 0.010*\"christma\"\n",
            "\n",
            "\n",
            "Topic: 9 Word: 0.056*\"say\" + 0.029*\"elect\" + 0.027*\"melbourn\" + 0.021*\"donald\" + 0.018*\"call\" + 0.015*\"miss\" + 0.014*\"drug\" + 0.014*\"leav\" + 0.013*\"state\" + 0.012*\"polic\"\n",
            "\n",
            "\n"
          ]
        }
      ],
      "source": [
        "'''\n",
        "For each topic, we will explore the words occuring in that topic and its relative weight\n",
        "'''\n",
        "for idx, topic in lda_model_tfidf.print_topics(-1):\n",
        "    print(\"Topic: {} Word: {}\".format(idx, topic))\n",
        "    print(\"\\n\")"
      ]
    },
    {
      "cell_type": "markdown",
      "metadata": {
        "id": "8NNb6jn9pWpT"
      },
      "source": [
        "### Classification of the topics ###\n",
        "\n",
        "As we can see, when using tf-idf, heavier weights are given to words that are not as frequent which results in nouns being factored in. That makes it harder to figure out the categories as nouns can be hard to categorize. This goes to show that the models we apply depend on the type of corpus of text we are dealing with. \n",
        "\n",
        "Using the words in each topic and their corresponding weights, what categories could you find?\n",
        "\n",
        "* 0: \n",
        "* 1:  \n",
        "* 2: \n",
        "* 3: \n",
        "* 4:  \n",
        "* 5: \n",
        "* 6: \n",
        "* 7: \n",
        "* 8: \n",
        "* 9: "
      ]
    },
    {
      "cell_type": "markdown",
      "metadata": {
        "id": "6hNzckFopWpU"
      },
      "source": [
        "## Step 5.1: Performance evaluation by classifying sample document using LDA Bag of Words model\n",
        "\n",
        "We will check to see where our test document would be classified. "
      ]
    },
    {
      "cell_type": "code",
      "execution_count": null,
      "metadata": {
        "id": "Uxju2jySpWpU",
        "colab": {
          "base_uri": "https://localhost:8080/"
        },
        "outputId": "3ce478d1-44ea-4dc2-c604-f8a788e6759f"
      },
      "outputs": [
        {
          "output_type": "execute_result",
          "data": {
            "text/plain": [
              "['rain', 'help', 'dampen', 'bushfir']"
            ]
          },
          "metadata": {},
          "execution_count": 38
        }
      ],
      "source": [
        "'''\n",
        "Text of sample document 4310\n",
        "'''\n",
        "processed_docs[4310]"
      ]
    },
    {
      "cell_type": "code",
      "execution_count": null,
      "metadata": {
        "id": "CI2aXinLpWpU",
        "colab": {
          "base_uri": "https://localhost:8080/"
        },
        "outputId": "22ae488f-6d8f-45c1-cea3-b26345d1412f"
      },
      "outputs": [
        {
          "output_type": "stream",
          "name": "stdout",
          "text": [
            "\n",
            "Score: 0.22000007331371307\t \n",
            "Topic: 0.027*\"north\" + 0.024*\"nation\" + 0.021*\"coast\" + 0.018*\"power\" + 0.016*\"rise\" + 0.015*\"call\" + 0.015*\"island\" + 0.015*\"west\" + 0.014*\"price\" + 0.013*\"gold\"\n",
            "\n",
            "Score: 0.22000007331371307\t \n",
            "Topic: 0.028*\"queensland\" + 0.025*\"world\" + 0.021*\"south\" + 0.020*\"canberra\" + 0.019*\"test\" + 0.017*\"australia\" + 0.016*\"turnbul\" + 0.016*\"final\" + 0.014*\"peopl\" + 0.012*\"leagu\"\n",
            "\n",
            "Score: 0.22000005841255188\t \n",
            "Topic: 0.043*\"trump\" + 0.029*\"govern\" + 0.017*\"help\" + 0.012*\"fund\" + 0.012*\"work\" + 0.012*\"say\" + 0.012*\"plan\" + 0.011*\"water\" + 0.011*\"servic\" + 0.011*\"communiti\"\n",
            "\n",
            "Score: 0.21999981999397278\t \n",
            "Topic: 0.022*\"die\" + 0.015*\"take\" + 0.014*\"korea\" + 0.014*\"minist\" + 0.012*\"prison\" + 0.011*\"drum\" + 0.011*\"find\" + 0.011*\"energi\" + 0.011*\"releas\" + 0.011*\"hold\"\n",
            "\n",
            "Score: 0.019999999552965164\t \n",
            "Topic: 0.030*\"polic\" + 0.028*\"charg\" + 0.028*\"court\" + 0.021*\"murder\" + 0.017*\"face\" + 0.017*\"alleg\" + 0.014*\"year\" + 0.014*\"jail\" + 0.014*\"accus\" + 0.013*\"child\"\n",
            "\n",
            "Score: 0.019999999552965164\t \n",
            "Topic: 0.025*\"death\" + 0.021*\"donald\" + 0.018*\"attack\" + 0.018*\"polic\" + 0.018*\"brisban\" + 0.017*\"kill\" + 0.017*\"sydney\" + 0.016*\"melbourn\" + 0.015*\"china\" + 0.015*\"miss\"\n",
            "\n",
            "Score: 0.019999999552965164\t \n",
            "Topic: 0.019*\"open\" + 0.016*\"tasmanian\" + 0.014*\"perth\" + 0.014*\"australian\" + 0.013*\"break\" + 0.012*\"countri\" + 0.011*\"game\" + 0.010*\"young\" + 0.010*\"deal\" + 0.009*\"make\"\n",
            "\n",
            "Score: 0.019999999552965164\t \n",
            "Topic: 0.022*\"elect\" + 0.022*\"hous\" + 0.017*\"state\" + 0.016*\"report\" + 0.016*\"say\" + 0.013*\"chang\" + 0.012*\"show\" + 0.012*\"polit\" + 0.012*\"protest\" + 0.011*\"street\"\n",
            "\n",
            "Score: 0.019999999552965164\t \n",
            "Topic: 0.021*\"school\" + 0.020*\"women\" + 0.018*\"live\" + 0.017*\"market\" + 0.015*\"high\" + 0.014*\"australia\" + 0.012*\"share\" + 0.011*\"fall\" + 0.011*\"darwin\" + 0.010*\"hobart\"\n",
            "\n",
            "Score: 0.019999999552965164\t \n",
            "Topic: 0.031*\"australia\" + 0.026*\"adelaid\" + 0.017*\"dead\" + 0.016*\"tasmania\" + 0.014*\"victoria\" + 0.013*\"marriag\" + 0.013*\"citi\" + 0.012*\"royal\" + 0.012*\"shoot\" + 0.012*\"vote\"\n"
          ]
        }
      ],
      "source": [
        "'''\n",
        "Check which topic our test document belongs to using the LDA Bag of Words model.\n",
        "'''\n",
        "\n",
        "# Our test document is document number 4310\n",
        "for index, score in sorted(lda_model[bow_corpus[document_num]], key=lambda tup: -1*tup[1]):\n",
        "    print(\"\\nScore: {}\\t \\nTopic: {}\".format(score, lda_model.print_topic(index, 10)))"
      ]
    },
    {
      "cell_type": "markdown",
      "metadata": {
        "id": "YJ1_lrAlpWpU"
      },
      "source": [
        "## Step 5.2: Performance evaluation by classifying sample document using LDA TF-IDF model"
      ]
    },
    {
      "cell_type": "code",
      "execution_count": null,
      "metadata": {
        "id": "bzP-FVoppWpU",
        "colab": {
          "base_uri": "https://localhost:8080/"
        },
        "outputId": "512ed480-d6e9-48ba-d853-918d7a1fa0fa"
      },
      "outputs": [
        {
          "output_type": "stream",
          "name": "stdout",
          "text": [
            "\n",
            "Score: 0.6200000047683716\t \n",
            "Topic: 0.023*\"perth\" + 0.021*\"help\" + 0.016*\"tasmania\" + 0.015*\"chang\" + 0.014*\"break\" + 0.014*\"open\" + 0.013*\"marriag\" + 0.013*\"street\" + 0.012*\"busi\" + 0.011*\"farmer\"\n",
            "\n",
            "Score: 0.2199999988079071\t \n",
            "Topic: 0.028*\"north\" + 0.022*\"coast\" + 0.019*\"market\" + 0.015*\"west\" + 0.014*\"share\" + 0.014*\"bank\" + 0.014*\"gold\" + 0.012*\"flood\" + 0.011*\"liber\" + 0.011*\"lead\"\n",
            "\n",
            "Score: 0.019999999552965164\t \n",
            "Topic: 0.026*\"govern\" + 0.024*\"queensland\" + 0.018*\"nation\" + 0.014*\"plan\" + 0.013*\"school\" + 0.013*\"health\" + 0.013*\"indigen\" + 0.012*\"rise\" + 0.012*\"council\" + 0.011*\"fund\"\n",
            "\n",
            "Score: 0.019999999552965164\t \n",
            "Topic: 0.052*\"australia\" + 0.043*\"trump\" + 0.015*\"live\" + 0.015*\"south\" + 0.013*\"test\" + 0.012*\"world\" + 0.012*\"record\" + 0.011*\"show\" + 0.011*\"korea\" + 0.011*\"china\"\n",
            "\n",
            "Score: 0.019999999552965164\t \n",
            "Topic: 0.054*\"australian\" + 0.017*\"time\" + 0.014*\"polit\" + 0.013*\"feder\" + 0.013*\"royal\" + 0.013*\"famili\" + 0.013*\"vote\" + 0.011*\"commiss\" + 0.010*\"ash\" + 0.009*\"hit\"\n",
            "\n",
            "Score: 0.019999999552965164\t \n",
            "Topic: 0.029*\"charg\" + 0.029*\"court\" + 0.022*\"murder\" + 0.018*\"face\" + 0.018*\"alleg\" + 0.016*\"polic\" + 0.014*\"accus\" + 0.014*\"child\" + 0.013*\"woman\" + 0.013*\"peopl\"\n",
            "\n",
            "Score: 0.019999999552965164\t \n",
            "Topic: 0.038*\"year\" + 0.021*\"canberra\" + 0.016*\"tasmanian\" + 0.014*\"life\" + 0.012*\"sentenc\" + 0.012*\"protest\" + 0.012*\"senat\" + 0.011*\"warn\" + 0.010*\"victorian\" + 0.010*\"campaign\"\n",
            "\n",
            "Score: 0.019999999552965164\t \n",
            "Topic: 0.025*\"polic\" + 0.024*\"kill\" + 0.022*\"crash\" + 0.021*\"die\" + 0.018*\"shoot\" + 0.017*\"dead\" + 0.016*\"death\" + 0.014*\"investig\" + 0.013*\"week\" + 0.012*\"attack\"\n",
            "\n",
            "Score: 0.019999999552965164\t \n",
            "Topic: 0.024*\"adelaid\" + 0.019*\"sydney\" + 0.018*\"brisban\" + 0.017*\"turnbul\" + 0.017*\"final\" + 0.012*\"victoria\" + 0.011*\"return\" + 0.010*\"game\" + 0.010*\"hobart\" + 0.010*\"christma\"\n",
            "\n",
            "Score: 0.019999999552965164\t \n",
            "Topic: 0.056*\"say\" + 0.029*\"elect\" + 0.027*\"melbourn\" + 0.021*\"donald\" + 0.018*\"call\" + 0.015*\"miss\" + 0.014*\"drug\" + 0.014*\"leav\" + 0.013*\"state\" + 0.012*\"polic\"\n"
          ]
        }
      ],
      "source": [
        "'''\n",
        "Check which topic our test document belongs to using the LDA TF-IDF model.\n",
        "Code would be similar to above\n",
        "'''\n",
        "# Todo\n",
        "for index, score in sorted(lda_model_tfidf[bow_corpus[document_num]], key=lambda tup: -1*tup[1]):\n",
        "    print(\"\\nScore: {}\\t \\nTopic: {}\".format(score, lda_model_tfidf.print_topic(index, 10)))"
      ]
    },
    {
      "cell_type": "markdown",
      "metadata": {
        "id": "Uk8zE_O0pWpV"
      },
      "source": [
        "## Step 6: Testing model on unseen document ##"
      ]
    },
    {
      "cell_type": "code",
      "execution_count": null,
      "metadata": {
        "id": "KwUGZYZ6pWpV",
        "colab": {
          "base_uri": "https://localhost:8080/"
        },
        "outputId": "b0833666-1dde-41c1-fe51-301a07fdf6cd"
      },
      "outputs": [
        {
          "output_type": "stream",
          "name": "stdout",
          "text": [
            "Score: 0.4199984669685364\t Topic: 0.030*\"polic\" + 0.028*\"charg\" + 0.028*\"court\" + 0.021*\"murder\" + 0.017*\"face\"\n",
            "Score: 0.2199999988079071\t Topic: 0.028*\"queensland\" + 0.025*\"world\" + 0.021*\"south\" + 0.020*\"canberra\" + 0.019*\"test\"\n",
            "Score: 0.2199999839067459\t Topic: 0.031*\"australia\" + 0.026*\"adelaid\" + 0.017*\"dead\" + 0.016*\"tasmania\" + 0.014*\"victoria\"\n",
            "Score: 0.02000158466398716\t Topic: 0.043*\"trump\" + 0.029*\"govern\" + 0.017*\"help\" + 0.012*\"fund\" + 0.012*\"work\"\n",
            "Score: 0.019999999552965164\t Topic: 0.025*\"death\" + 0.021*\"donald\" + 0.018*\"attack\" + 0.018*\"polic\" + 0.018*\"brisban\"\n",
            "Score: 0.019999999552965164\t Topic: 0.022*\"die\" + 0.015*\"take\" + 0.014*\"korea\" + 0.014*\"minist\" + 0.012*\"prison\"\n",
            "Score: 0.019999999552965164\t Topic: 0.019*\"open\" + 0.016*\"tasmanian\" + 0.014*\"perth\" + 0.014*\"australian\" + 0.013*\"break\"\n",
            "Score: 0.019999999552965164\t Topic: 0.027*\"north\" + 0.024*\"nation\" + 0.021*\"coast\" + 0.018*\"power\" + 0.016*\"rise\"\n",
            "Score: 0.019999999552965164\t Topic: 0.022*\"elect\" + 0.022*\"hous\" + 0.017*\"state\" + 0.016*\"report\" + 0.016*\"say\"\n",
            "Score: 0.019999999552965164\t Topic: 0.021*\"school\" + 0.020*\"women\" + 0.018*\"live\" + 0.017*\"market\" + 0.015*\"high\"\n"
          ]
        }
      ],
      "source": [
        "unseen_document = \"My favorite sports activities are running and swimming.\"\n",
        "\n",
        "# Data preprocessing step for the unseen document\n",
        "bow_vector = dictionary.doc2bow(preprocesser_words(unseen_document))\n",
        "\n",
        "for index, score in sorted(lda_model[bow_vector], key=lambda tup: -1*tup[1]):\n",
        "    print(\"Score: {}\\t Topic: {}\".format(score, lda_model.print_topic(index, 5)))"
      ]
    },
    {
      "cell_type": "markdown",
      "metadata": {
        "id": "AupZQpoDpWpV"
      },
      "source": [
        "### Now, look up different ways we can transform our words or use different techniques or improvements that we can make to make our Topic Classifier more accurate. Write them down below:"
      ]
    },
    {
      "cell_type": "markdown",
      "metadata": {
        "id": "Hf0ZZR6HpWpV"
      },
      "source": [
        "**We can:**\n",
        "- Double click here to append points\n",
        "\n",
        "- "
      ]
    }
  ],
  "metadata": {
    "kernelspec": {
      "display_name": "Python 3",
      "language": "python",
      "name": "python3"
    },
    "language_info": {
      "codemirror_mode": {
        "name": "ipython",
        "version": 3
      },
      "file_extension": ".py",
      "mimetype": "text/x-python",
      "name": "python",
      "nbconvert_exporter": "python",
      "pygments_lexer": "ipython3",
      "version": "3.6.12"
    },
    "colab": {
      "provenance": [],
      "include_colab_link": true
    }
  },
  "nbformat": 4,
  "nbformat_minor": 0
}